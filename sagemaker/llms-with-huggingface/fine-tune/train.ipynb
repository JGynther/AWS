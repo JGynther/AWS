{
 "cells": [
  {
   "cell_type": "code",
   "execution_count": null,
   "id": "207e3b26-e265-430d-92d8-c34bc9a425aa",
   "metadata": {
    "tags": []
   },
   "outputs": [],
   "source": [
    "!pip install sagemaker --upgrade"
   ]
  },
  {
   "cell_type": "code",
   "execution_count": null,
   "id": "513c4d29-d832-40ff-84be-ed48ac059642",
   "metadata": {
    "tags": []
   },
   "outputs": [],
   "source": [
    "import sagemaker\n",
    "\n",
    "session = sagemaker.Session()\n",
    "role = sagemaker.get_execution_role()"
   ]
  },
  {
   "cell_type": "code",
   "execution_count": null,
   "id": "e0d35add-5789-4d91-b97e-431c118d0c3f",
   "metadata": {
    "tags": []
   },
   "outputs": [],
   "source": [
    "import time\n",
    "from sagemaker.huggingface import HuggingFace\n",
    "\n",
    "\n",
    "job_name = f'huggingface-qlora-{time.strftime(\"%Y-%m-%d-%H-%M-%S\", time.localtime())}'\n",
    "\n",
    "\n",
    "huggingface_estimator = HuggingFace(\n",
    "    entry_point='train.py',\n",
    "    source_dir='scripts',\n",
    "    instance_type='ml.g5.12xlarge',\n",
    "    instance_count=1,\n",
    "    base_job_name=job_name,\n",
    "    role=role,\n",
    "    volume_size=300,\n",
    "    transformers_version='4.28',\n",
    "    pytorch_version='2.0',\n",
    "    py_version='py310',\n",
    "    environment={\"HUGGINGFACE_HUB_CACHE\": \"/tmp/.cache\"}\n",
    ")"
   ]
  },
  {
   "cell_type": "code",
   "execution_count": null,
   "id": "b6fce84d-e648-4d24-8a85-96ad9e7c034b",
   "metadata": {
    "tags": []
   },
   "outputs": [],
   "source": [
    "data = {'training': f\"s3://{session.default_bucket()}/processed/train\"}\n",
    "\n",
    "huggingface_estimator.fit(data, wait=True)"
   ]
  }
 ],
 "metadata": {
  "kernelspec": {
   "display_name": "conda_pytorch_p310",
   "language": "python",
   "name": "conda_pytorch_p310"
  },
  "language_info": {
   "codemirror_mode": {
    "name": "ipython",
    "version": 3
   },
   "file_extension": ".py",
   "mimetype": "text/x-python",
   "name": "python",
   "nbconvert_exporter": "python",
   "pygments_lexer": "ipython3",
   "version": "3.10.10"
  }
 },
 "nbformat": 4,
 "nbformat_minor": 5
}
